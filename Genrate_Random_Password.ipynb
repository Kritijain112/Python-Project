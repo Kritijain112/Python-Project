{
  "nbformat": 4,
  "nbformat_minor": 0,
  "metadata": {
    "colab": {
      "provenance": []
    },
    "kernelspec": {
      "name": "python3",
      "display_name": "Python 3"
    },
    "language_info": {
      "name": "python"
    }
  },
  "cells": [
    {
      "cell_type": "code",
      "execution_count": 2,
      "metadata": {
        "colab": {
          "base_uri": "https://localhost:8080/"
        },
        "id": "zI_NiD24YLrv",
        "outputId": "de464caa-f994-4f4b-d0fe-2637ed3de37c"
      },
      "outputs": [
        {
          "output_type": "stream",
          "name": "stdout",
          "text": [
            "TKSdhgGX\n"
          ]
        }
      ],
      "source": [
        "import random\n",
        "lower_case=\"abcdefghijklmnopqrstuvwxyz\"\n",
        "upper_case=\"ABCDEFGHIJKLMNOPQRSTUVWXYZ\"\n",
        "number=\"0123456789\"\n",
        "symbols=\"@#$%^&*?\"\n",
        "use_for=lower_case +upper_case+number+symbols\n",
        "length_for_pass=8\n",
        "\n",
        "password=\"\".join(random.sample(use_for,length_for_pass))\n",
        "print(password)"
      ]
    },
    {
      "cell_type": "code",
      "source": [],
      "metadata": {
        "id": "lEdVqF5SYNDK"
      },
      "execution_count": null,
      "outputs": []
    }
  ]
}
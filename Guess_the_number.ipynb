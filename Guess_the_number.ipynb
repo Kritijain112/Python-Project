{
  "nbformat": 4,
  "nbformat_minor": 0,
  "metadata": {
    "colab": {
      "provenance": []
    },
    "kernelspec": {
      "name": "python3",
      "display_name": "Python 3"
    },
    "language_info": {
      "name": "python"
    }
  },
  "cells": [
    {
      "cell_type": "code",
      "execution_count": 1,
      "metadata": {
        "colab": {
          "base_uri": "https://localhost:8080/"
        },
        "id": "zI_NiD24YLrv",
        "outputId": "914a9a49-2042-4d68-bf19-4b8dd4e34f14"
      },
      "outputs": [
        {
          "output_type": "stream",
          "name": "stdout",
          "text": [
            "no of guess is limited only 8\n",
            "Guess the number :\n",
            "5\n",
            "number is too low ,please Enter the high number: \n",
            "\n",
            "7 number of guess left\n",
            "Guess the number :\n",
            "50\n",
            "number is too high ,please Enter the lower number: \n",
            "\n",
            "6 number of guess left\n",
            "Guess the number :\n",
            "30\n",
            "number is too high ,please Enter the lower number: \n",
            "\n",
            "5 number of guess left\n",
            "Guess the number :\n",
            "25\n",
            "number is too low ,please Enter the high number: \n",
            "\n",
            "4 number of guess left\n",
            "Guess the number :\n",
            "26\n",
            "You won\n",
            "\n",
            "5 no. of guess he took to finish.\n"
          ]
        }
      ],
      "source": [
        "# Guess the number \n",
        "\n",
        "n=26\n",
        "number=1\n",
        "print(\"no of guess is limited only 8\")\n",
        "while(number<=8):\n",
        "    guess_number=int(input(\"Guess the number :\\n\"))\n",
        "    if guess_number<n:\n",
        "        print(\"number is too low ,please Enter the high number: \\n\")\n",
        "    elif guess_number>n:\n",
        "        print(\"number is too high ,please Enter the lower number: \\n\")\n",
        "    else:\n",
        "        print(\"You won\\n\")\n",
        "        print(number,\"no. of guess he took to finish.\")\n",
        "        break\n",
        "    print(8-number,\"number of guess left\")\n",
        "    number=number+1\n",
        "    \n",
        "if (number>8):\n",
        "    print(\"Game Over\")"
      ]
    },
    {
      "cell_type": "code",
      "source": [],
      "metadata": {
        "id": "lEdVqF5SYNDK"
      },
      "execution_count": null,
      "outputs": []
    }
  ]
}
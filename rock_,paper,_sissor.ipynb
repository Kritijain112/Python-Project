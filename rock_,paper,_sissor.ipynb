{
  "nbformat": 4,
  "nbformat_minor": 0,
  "metadata": {
    "colab": {
      "provenance": [],
      "collapsed_sections": []
    },
    "kernelspec": {
      "name": "python3",
      "display_name": "Python 3"
    },
    "language_info": {
      "name": "python"
    }
  },
  "cells": [
    {
      "cell_type": "code",
      "execution_count": 18,
      "metadata": {
        "colab": {
          "base_uri": "https://localhost:8080/"
        },
        "id": "lLHu_Wnh1h_S",
        "outputId": "c4f8d1cb-1061-41d0-e73b-8ef7d20ddf6d"
      },
      "outputs": [
        {
          "output_type": "stream",
          "name": "stdout",
          "text": [
            "rock ,paper or scissor: rock\n",
            "computer: rock\n",
            "player rock\n",
            "Tie !\n",
            "play again ?(yes/no):yes\n",
            "rock ,paper or scissor: paper\n",
            "computer: paper\n",
            "player paper\n",
            "Tie !\n",
            "play again ?(yes/no):no\n",
            "Bye\n"
          ]
        }
      ],
      "source": [
        "import random\n",
        "while True:\n",
        "  choices = [\"rock\", \"paper\", \"scissor\"]\n",
        "  computer = random.choice(choices)\n",
        "  player = None\n",
        "\n",
        "  while player not in choices:\n",
        "      player=input(\"rock ,paper or scissor: \").lower()\n",
        "    \n",
        "      if player==computer:\n",
        "        print(\"computer:\",computer)\n",
        "        print(\"player\",player)\n",
        "        print(\"Tie !\")\n",
        "      \n",
        "      elif player==\"rock\":\n",
        "        if computer==\"paper\":\n",
        "          print(\"computer:\",computer)\n",
        "          print(\"player\",player)\n",
        "          print(\"You lose !\")\n",
        "        if computer==\"scissor\":\n",
        "          print(\"computer:\",computer)\n",
        "          print(\"player\",player)\n",
        "          print(\"You Win!\")\n",
        "        \n",
        "      elif player==\"scissor\":\n",
        "        if computer ==\"rock\":\n",
        "          print(\"computer:\",computer)\n",
        "          print(\"player\",player)\n",
        "          print(\"You lose !\")\n",
        "        if computer==\"paper\":\n",
        "          print(\"computer:\",computer)\n",
        "          print(\"player\",player)\n",
        "          print(\"You Win!\")\n",
        "                   \n",
        "      elif player==\"paper\":\n",
        "        if computer ==\"scissor\":\n",
        "          print(\"computer:\",computer)\n",
        "          print(\"player\",player)\n",
        "          print(\"You lose !\")\n",
        "        if computer==\"rock\":\n",
        "          print(\"computer:\",computer)\n",
        "          print(\"player\",player)\n",
        "          print(\"you Win !\")\n",
        "            \n",
        "      play_again = input(\"play again ?(yes/no):\").lower()\n",
        "  if play_again   != \"yes\" :\n",
        "    break\n",
        "        \n",
        "print(\"Bye\")\n",
        "    \n",
        "        "
      ]
    },
    {
      "cell_type": "code",
      "source": [],
      "metadata": {
        "id": "1oZdj2Yp4tCG"
      },
      "execution_count": null,
      "outputs": []
    }
  ]
}